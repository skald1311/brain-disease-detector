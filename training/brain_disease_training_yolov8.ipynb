{
 "cells": [
  {
   "cell_type": "code",
   "execution_count": 1,
   "metadata": {},
   "outputs": [
    {
     "name": "stdout",
     "output_type": "stream",
     "text": [
      "loading Roboflow workspace...\n",
      "loading Roboflow project...\n",
      "Dependency ultralytics==8.0.196 is required but found version=8.2.32, to fix: `pip install ultralytics==8.0.196`\n"
     ]
    },
    {
     "name": "stderr",
     "output_type": "stream",
     "text": [
      "Downloading Dataset Version Zip in Brain-diseases-5 to yolov8:: 100%|██████████| 35857/35857 [00:03<00:00, 10339.33it/s]"
     ]
    },
    {
     "name": "stdout",
     "output_type": "stream",
     "text": [
      "\n"
     ]
    },
    {
     "name": "stderr",
     "output_type": "stream",
     "text": [
      "\n",
      "Extracting Dataset Version Zip to Brain-diseases-5 in yolov8:: 100%|██████████| 2528/2528 [00:01<00:00, 2086.45it/s]\n"
     ]
    }
   ],
   "source": [
    "# Get Dataset\n",
    "from roboflow import Roboflow\n",
    "rf = Roboflow(api_key=\"AfYZWfyQU8ZWnB1EpCkj\")\n",
    "project = rf.workspace(\"gabriel-de-oliveira-salles\").project(\"brain-diseases\")\n",
    "version = project.version(5)\n",
    "dataset = version.download(\"yolov8\")"
   ]
  },
  {
   "cell_type": "code",
   "execution_count": 2,
   "metadata": {},
   "outputs": [
    {
     "data": {
      "text/plain": [
       "'Brain-diseases-5/Brain-diseases-5/valid'"
      ]
     },
     "execution_count": 2,
     "metadata": {},
     "output_type": "execute_result"
    }
   ],
   "source": [
    "import shutil\n",
    "\n",
    "shutil.move('Brain-diseases-5/train', 'Brain-diseases-5/Brain-diseases-5/train')\n",
    "\n",
    "shutil.move('Brain-diseases-5/test', 'Brain-diseases-5/Brain-diseases-5/test')\n",
    "\n",
    "shutil.move('Brain-diseases-5/valid', 'Brain-diseases-5/Brain-diseases-5/valid')"
   ]
  },
  {
   "cell_type": "code",
   "execution_count": null,
   "metadata": {},
   "outputs": [],
   "source": [
    "# Training\n",
    "# !yolo task=detect mode=train model=yolov8x.pt data={dataset.location}/data.yaml epochs=100 imgsz=640\n",
    "\n",
    "# Done on Google Collab. The trained model's weight best.pt is in the model folder. There's also last.pt but my free resource on Google Collab ran out so I couldn't download it in time."
   ]
  }
 ],
 "metadata": {
  "kernelspec": {
   "display_name": ".venv",
   "language": "python",
   "name": "python3"
  },
  "language_info": {
   "codemirror_mode": {
    "name": "ipython",
    "version": 3
   },
   "file_extension": ".py",
   "mimetype": "text/x-python",
   "name": "python",
   "nbconvert_exporter": "python",
   "pygments_lexer": "ipython3",
   "version": "3.11.4"
  }
 },
 "nbformat": 4,
 "nbformat_minor": 2
}
